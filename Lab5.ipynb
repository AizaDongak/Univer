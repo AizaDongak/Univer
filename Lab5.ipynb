{
  "nbformat": 4,
  "nbformat_minor": 0,
  "metadata": {
    "colab": {
      "provenance": []
    },
    "kernelspec": {
      "name": "python3",
      "display_name": "Python 3"
    },
    "language_info": {
      "name": "python"
    }
  },
  "cells": [
    {
      "cell_type": "markdown",
      "source": [
        "Задание 1."
      ],
      "metadata": {
        "id": "HWEumNDsZGTR"
      }
    },
    {
      "cell_type": "code",
      "execution_count": 1,
      "metadata": {
        "colab": {
          "base_uri": "https://localhost:8080/"
        },
        "id": "ER3Ie8cqY3Bm",
        "outputId": "e7e5b63d-9fe2-410f-faeb-92c81c028d85"
      },
      "outputs": [
        {
          "output_type": "stream",
          "name": "stdout",
          "text": [
            "РГАУ-МСХА имени К.А. Тимирязева\n"
          ]
        }
      ],
      "source": [
        "s=\"Я студент(ка) РГАУ-МСХА имени К.А. Тимирязева\"\n",
        "res = s[14::]\n",
        "print(res)"
      ]
    },
    {
      "cell_type": "markdown",
      "source": [
        "Задание 2. "
      ],
      "metadata": {
        "id": "zKLy_-vFZNk1"
      }
    },
    {
      "cell_type": "code",
      "source": [
        "x = int(input('Введите день: '))\n",
        "if x == 1:\n",
        "    print('Понедельник')\n",
        "elif x == 2:\n",
        "    print('Вторник')\n",
        "elif x == 3:\n",
        "    print('Среда')\n",
        "elif x == 4:\n",
        "    print('Четверг')\n",
        "elif x == 5:\n",
        "    print('Пятница')\n",
        "elif x == 6:\n",
        "    print('Суббота')\n",
        "else:\n",
        "    print('Воскресенье')"
      ],
      "metadata": {
        "colab": {
          "base_uri": "https://localhost:8080/"
        },
        "id": "lrTPrGitZTBI",
        "outputId": "0d69baf8-2aea-4808-aac2-e6edf3a4e812"
      },
      "execution_count": 2,
      "outputs": [
        {
          "output_type": "stream",
          "name": "stdout",
          "text": [
            "Введите день: 7\n",
            "Воскресенье\n"
          ]
        }
      ]
    },
    {
      "cell_type": "markdown",
      "source": [
        "Задание 3."
      ],
      "metadata": {
        "id": "4nMFHNNVZXp9"
      }
    },
    {
      "cell_type": "code",
      "source": [
        "import numpy as np\n",
        "A=np.array([[1,3,1],[3,5,6],[4,8,15]])\n",
        "B=np.array([[6,9,2],[4,7,6],[5,10,7]])\n",
        "total=abs(A.transpose()*A*B+A*(1/B)*(np.eye((3))))\n",
        "print(total)"
      ],
      "metadata": {
        "colab": {
          "base_uri": "https://localhost:8080/"
        },
        "id": "3o-pbNFrZavj",
        "outputId": "fa145a32-68e5-48db-cfed-d0fac1241f34"
      },
      "execution_count": 3,
      "outputs": [
        {
          "output_type": "stream",
          "name": "stdout",
          "text": [
            "[[   6.16666667   81.            8.        ]\n",
            " [  36.          175.71428571  288.        ]\n",
            " [  20.          480.         1577.14285714]]\n"
          ]
        }
      ]
    }
  ]
}